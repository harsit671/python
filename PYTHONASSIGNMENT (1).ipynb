{
  "nbformat": 4,
  "nbformat_minor": 0,
  "metadata": {
    "colab": {
      "provenance": []
    },
    "kernelspec": {
      "name": "python3",
      "display_name": "Python 3"
    },
    "language_info": {
      "name": "python"
    }
  },
  "cells": [
    {
      "cell_type": "markdown",
      "source": [
        "#PYTHON_ASSIGNMENT\n",
        "\n"
      ],
      "metadata": {
        "id": "eklVteFyQBxA"
      }
    },
    {
      "cell_type": "markdown",
      "source": [
        "1. What is Python, and why is it popular?\n",
        "   - python is a programming language that is very easy to understand and write that makes it very popular among the developers and programmers.\n",
        "\n",
        "   \n"
      ],
      "metadata": {
        "id": "4NinU434RunG"
      }
    },
    {
      "cell_type": "markdown",
      "source": [
        "2. What is an interpreter in Python?\n",
        "  - A python interpreter is a programe that reads the pytgon source code and execute it line by line in an intermediate form.It provides an interactive environment as well as the ability to run the entire scripts."
      ],
      "metadata": {
        "id": "V7oq7ihUSl1Z"
      }
    },
    {
      "cell_type": "markdown",
      "source": [
        "3.What are pre-defined keywords in Python?\n",
        "  - Pre define keywords are some special words that are built into the language and have specific meanings. They are used to define the syntax and structure of the python program.\n"
      ],
      "metadata": {
        "id": "JCvPYIKtTV3V"
      }
    },
    {
      "cell_type": "markdown",
      "source": [
        "4.  Can keywords be used as variable names?\n",
        "  - no keywords can not be use as variable names because they are fixed words that contain some tasks.\n"
      ],
      "metadata": {
        "id": "0pwgUTPfUOn6"
      }
    },
    {
      "cell_type": "markdown",
      "source": [
        "5. What is mutability in Python?\n",
        "  - Mutability in python allows object to be changed after its creation."
      ],
      "metadata": {
        "id": "mzYvxYq3Up0t"
      }
    },
    {
      "cell_type": "markdown",
      "source": [
        "6. Why are lists mutable, but tuples are immutable?\n",
        "  - Python stores lists in memory in a way that supports in place modification while tuples are called fix colllection of items."
      ],
      "metadata": {
        "id": "zagY2NYAVC0d"
      }
    },
    {
      "cell_type": "markdown",
      "source": [
        "7. What is the difference between “==” and “is” operators in Python?\n",
        "  - \"==\" is used to check wheather the value of two given variables are same or not while \"is\" is used to check that the same object is in the memory or not.\n",
        "  "
      ],
      "metadata": {
        "id": "2t8wNHuLVd64"
      }
    },
    {
      "cell_type": "markdown",
      "source": [
        "8. What are logical operators in Python?\n",
        "  - logiccal operators are used to combine boolean expressions.\n",
        "  AND,OR,NOT are the logical operators."
      ],
      "metadata": {
        "id": "HbCef6c0V_0C"
      }
    },
    {
      "cell_type": "markdown",
      "source": [
        "9.What is type casting in Python?\n",
        "  - The process of changing the data type of a value or object in python program is called type casting."
      ],
      "metadata": {
        "id": "xL9axxReWdVz"
      }
    },
    {
      "cell_type": "markdown",
      "source": [
        "10.What is the difference between implicit and explicit type casting?\n",
        "  - Implicit type casting is when python command itself what data type will be execute for the given values or object.\n",
        "  Explicit type casting is when user give the command to code that which daa type will be execute on values.\n",
        "    "
      ],
      "metadata": {
        "id": "vU8FGG20WyaI"
      }
    },
    {
      "cell_type": "markdown",
      "source": [
        "11. What is the purpose of conditional statements in Python?\n",
        "  - Conditional statement helps to code decision based on some pre conditions.\n",
        "  There are four type of conditional statement-\n",
        "  1.if\n",
        "  2.else\n",
        "  3.if-elif-else\n",
        "  4.nested if-else"
      ],
      "metadata": {
        "id": "hfeZ_Zz6XjQl"
      }
    },
    {
      "cell_type": "markdown",
      "source": [
        "12. How does the elif statement work?\n",
        "  - The elif statement in python is short for \"else if\".It is used in conditional statement to check multiple conditions one after another."
      ],
      "metadata": {
        "id": "rA9PNXZzYng8"
      }
    },
    {
      "cell_type": "markdown",
      "source": [
        "13.What is the difference between for and while loops?\n",
        "  - For loops is used when user know how many times he want to loop and while loops is used when user don't know in advance how many times to loop."
      ],
      "metadata": {
        "id": "molhtwnbZc1f"
      }
    },
    {
      "cell_type": "markdown",
      "source": [
        "14. Describe a scenario where a while loop is more suitable than a for loop.\n",
        "  - when there is ask for a password and you want to keep asking untill the user enter the correct pssword.In this case while loop is better than for loop because the number of attempt is not fixed its totally depends on user's input."
      ],
      "metadata": {
        "id": "E2Tz5VAjdkiP"
      }
    },
    {
      "cell_type": "markdown",
      "source": [
        "#PRACTICE QUESTION\n",
        ""
      ],
      "metadata": {
        "id": "sWq2640ifWdt"
      }
    },
    {
      "cell_type": "code",
      "source": [
        "#1.Write a Python program to print \"Hello, World!\"\n",
        "print(\"Hello, World!\")"
      ],
      "metadata": {
        "colab": {
          "base_uri": "https://localhost:8080/"
        },
        "id": "SsbycAMRfyZf",
        "outputId": "22edc234-9e8a-4329-f6f8-eeb8b6014174"
      },
      "execution_count": 1,
      "outputs": [
        {
          "output_type": "stream",
          "name": "stdout",
          "text": [
            "Hello, World!\n"
          ]
        }
      ]
    },
    {
      "cell_type": "code",
      "source": [
        "#2.Write a Python program that displays your name and age.\n",
        "name=\"KULSRESTH NARAYAN SHUKLA\"\n",
        "age=23\n",
        "print(\"my name is \", name)\n",
        "print(\"my age is\", age)\n"
      ],
      "metadata": {
        "colab": {
          "base_uri": "https://localhost:8080/"
        },
        "id": "cJZvXt8CgNnQ",
        "outputId": "950c2cdc-6a52-4341-bf4b-0954dd8aa759"
      },
      "execution_count": 2,
      "outputs": [
        {
          "output_type": "stream",
          "name": "stdout",
          "text": [
            "my name is  KULSRESTH NARAYAN SHUKLA\n",
            "my age is 23\n"
          ]
        }
      ]
    },
    {
      "cell_type": "code",
      "source": [
        "#3. Write code to print all the pre-defined keywords in Python using the keyword library\n",
        "help(\"keywords\")"
      ],
      "metadata": {
        "colab": {
          "base_uri": "https://localhost:8080/"
        },
        "id": "qeklkwTWg8MI",
        "outputId": "a317ee4d-bac7-47cd-fa07-b93c711d1de4"
      },
      "execution_count": 3,
      "outputs": [
        {
          "output_type": "stream",
          "name": "stdout",
          "text": [
            "\n",
            "Here is a list of the Python keywords.  Enter any keyword to get more help.\n",
            "\n",
            "False               class               from                or\n",
            "None                continue            global              pass\n",
            "True                def                 if                  raise\n",
            "and                 del                 import              return\n",
            "as                  elif                in                  try\n",
            "assert              else                is                  while\n",
            "async               except              lambda              with\n",
            "await               finally             nonlocal            yield\n",
            "break               for                 not                 \n",
            "\n"
          ]
        }
      ]
    },
    {
      "cell_type": "code",
      "source": [
        "#4.Write a program that checks if a given word is a Python keyword.\n",
        "import keyword\n",
        "word=input(\"ENTER A WORD:\")\n",
        "if keyword.iskeyword(word):\n",
        "  print(\" your word is a keyword.\")\n",
        "else:\n",
        "  print(\"your word is not a keyword.\")"
      ],
      "metadata": {
        "colab": {
          "base_uri": "https://localhost:8080/"
        },
        "id": "mLfaAjR1hJMz",
        "outputId": "b7c1dd71-ce51-42f7-c62f-70c22e20363f"
      },
      "execution_count": 15,
      "outputs": [
        {
          "output_type": "stream",
          "name": "stdout",
          "text": [
            "ENTER A WORD:while\n",
            " your word is a keyword.\n"
          ]
        }
      ]
    },
    {
      "cell_type": "code",
      "source": [
        "'''\n",
        "5.Create a list and tuple in Python, and demonstrate how attempting to change an element works differently\n",
        "for each\n",
        "'''\n",
        "my_list=[1,2,3,4]\n",
        "print(\"original list\",my_list)\n",
        "my_list[1]=5\n",
        "print(\"new list \",my_list)\n",
        "my_tuple=(2,3,4,5)\n",
        "print(\"original tuple\", my_tuple)\n",
        "my_tuple[2]=8\n",
        "print(\"new tuple\",my_tuple)\n",
        "#so we can see tuple is immutable"
      ],
      "metadata": {
        "colab": {
          "base_uri": "https://localhost:8080/",
          "height": 263
        },
        "id": "rfnbI8Gmk9SK",
        "outputId": "1f145264-8156-4414-d5f7-2e54b5ae13a2"
      },
      "execution_count": 1,
      "outputs": [
        {
          "output_type": "stream",
          "name": "stdout",
          "text": [
            "original list  [1, 2, 3, 4]\n",
            "new list  [1, 5, 3, 4]\n",
            "original tuple (2, 3, 4, 5)\n"
          ]
        },
        {
          "output_type": "error",
          "ename": "TypeError",
          "evalue": "'tuple' object does not support item assignment",
          "traceback": [
            "\u001b[0;31m---------------------------------------------------------------------------\u001b[0m",
            "\u001b[0;31mTypeError\u001b[0m                                 Traceback (most recent call last)",
            "\u001b[0;32m/tmp/ipython-input-1-4268322623.py\u001b[0m in \u001b[0;36m<cell line: 0>\u001b[0;34m()\u001b[0m\n\u001b[1;32m      9\u001b[0m \u001b[0mmy_tuple\u001b[0m\u001b[0;34m=\u001b[0m\u001b[0;34m(\u001b[0m\u001b[0;36m2\u001b[0m\u001b[0;34m,\u001b[0m\u001b[0;36m3\u001b[0m\u001b[0;34m,\u001b[0m\u001b[0;36m4\u001b[0m\u001b[0;34m,\u001b[0m\u001b[0;36m5\u001b[0m\u001b[0;34m)\u001b[0m\u001b[0;34m\u001b[0m\u001b[0;34m\u001b[0m\u001b[0m\n\u001b[1;32m     10\u001b[0m \u001b[0mprint\u001b[0m\u001b[0;34m(\u001b[0m\u001b[0;34m\"original tuple\"\u001b[0m\u001b[0;34m,\u001b[0m \u001b[0mmy_tuple\u001b[0m\u001b[0;34m)\u001b[0m\u001b[0;34m\u001b[0m\u001b[0;34m\u001b[0m\u001b[0m\n\u001b[0;32m---> 11\u001b[0;31m \u001b[0mmy_tuple\u001b[0m\u001b[0;34m[\u001b[0m\u001b[0;36m2\u001b[0m\u001b[0;34m]\u001b[0m\u001b[0;34m=\u001b[0m\u001b[0;36m8\u001b[0m\u001b[0;34m\u001b[0m\u001b[0;34m\u001b[0m\u001b[0m\n\u001b[0m\u001b[1;32m     12\u001b[0m \u001b[0mprint\u001b[0m\u001b[0;34m(\u001b[0m\u001b[0;34m\"new tuple\"\u001b[0m\u001b[0;34m,\u001b[0m\u001b[0mmy_tuple\u001b[0m\u001b[0;34m)\u001b[0m\u001b[0;34m\u001b[0m\u001b[0;34m\u001b[0m\u001b[0m\n\u001b[1;32m     13\u001b[0m \u001b[0;31m#so we can see tuple is immutable\u001b[0m\u001b[0;34m\u001b[0m\u001b[0;34m\u001b[0m\u001b[0m\n",
            "\u001b[0;31mTypeError\u001b[0m: 'tuple' object does not support item assignment"
          ]
        }
      ]
    },
    {
      "cell_type": "code",
      "source": [
        "#6. Write a function to demonstrate the behavior of mutable and immutable arguments.\n",
        "\n"
      ],
      "metadata": {
        "id": "YO-c16BWnpWc"
      },
      "execution_count": 26,
      "outputs": []
    },
    {
      "cell_type": "code",
      "source": [
        "#7.Write a program that performs basic arithmetic operations on two user-input numbers.\n",
        "a=int(input(\"enter a number\"))\n",
        "b=int(input(\"enter a number\"))\n",
        "sum=a+b\n",
        "sub=a-b\n",
        "mul=a*b\n",
        "div=a/b\n",
        "print(\"sum of two numbers=\",sum)\n",
        "print(\"sub of two numbers=\",sub)\n",
        "print(\"mul of two num=\",mul)\n",
        "print(\"div of two numbers=\",div)\n"
      ],
      "metadata": {
        "colab": {
          "base_uri": "https://localhost:8080/"
        },
        "id": "ocASOVuwt32Q",
        "outputId": "a89e514d-4a73-42aa-b56d-852bb6c0b731"
      },
      "execution_count": 28,
      "outputs": [
        {
          "output_type": "stream",
          "name": "stdout",
          "text": [
            "enter a number78\n",
            "enter a number39\n",
            "sum of two numbers= 117\n",
            "sub of two numbers= 39\n",
            "mul of two num= 3042\n",
            "div of two numbers= 2.0\n"
          ]
        }
      ]
    },
    {
      "cell_type": "code",
      "source": [
        "#8.Write a program to demonstrate the use of logical operators.\n",
        "a=10\n",
        "b=4\n",
        "a&b\n",
        "a|b\n",
        "print(\"a&b is\",a&b)\n",
        "print(\"a|b is\",a|b)"
      ],
      "metadata": {
        "colab": {
          "base_uri": "https://localhost:8080/"
        },
        "id": "aK9SWzr5vSRw",
        "outputId": "bf7ee15d-ea40-4bc8-aa5e-45c21f822f1c"
      },
      "execution_count": 4,
      "outputs": [
        {
          "output_type": "stream",
          "name": "stdout",
          "text": [
            "a&b is 0\n",
            "a|b is 14\n"
          ]
        }
      ]
    },
    {
      "cell_type": "code",
      "source": [
        "#9.Write a Python program to convert user input from string to integer, float, and boolean types\n",
        "a=\"25\"\n",
        "b=int(a)\n",
        "print(\"b=\",b)\n",
        "type(b)\n",
        "c=float(a)\n",
        "print(\"c=\",c)\n",
        "type(c)\n",
        "d=bool(a)\n",
        "print(\"d=\",d)"
      ],
      "metadata": {
        "colab": {
          "base_uri": "https://localhost:8080/"
        },
        "id": "SV0BZtDjWpTC",
        "outputId": "3ba36bf4-d235-4b86-fff2-913edf21af0a"
      },
      "execution_count": 13,
      "outputs": [
        {
          "output_type": "stream",
          "name": "stdout",
          "text": [
            "b= 25\n",
            "c= 25.0\n",
            "d= True\n"
          ]
        }
      ]
    },
    {
      "cell_type": "code",
      "source": [
        "#10. Write code to demonstrate type casting with list elements.\n",
        "list=['10','20','30','40']\n",
        "int_list=[int(x) for x in list]\n",
        "print(\"original list=\", list)\n",
        "print(\"integer list=\", int_list)"
      ],
      "metadata": {
        "colab": {
          "base_uri": "https://localhost:8080/"
        },
        "id": "DBThaJ9lZzZd",
        "outputId": "e89b2b6b-cb92-4b10-df06-f6ec9b020654"
      },
      "execution_count": 5,
      "outputs": [
        {
          "output_type": "stream",
          "name": "stdout",
          "text": [
            "original list= ['10', '20', '30', '40']\n",
            "integer list= [10, 20, 30, 40]\n"
          ]
        }
      ]
    },
    {
      "cell_type": "code",
      "source": [
        "#11.Write a program that checks if a number is positive, negative, or zero.\n",
        "a=int(input(\"enter a number \"))\n",
        "if a==0:\n",
        "  print(\"given number is zero\")\n",
        "elif a>0:\n",
        "  print(\"given number is positive\")\n",
        "else:\n",
        "  print(\"given number is negative\")"
      ],
      "metadata": {
        "colab": {
          "base_uri": "https://localhost:8080/"
        },
        "id": "VbZCBbMGsa3L",
        "outputId": "c35ae487-a796-4918-f5cf-7936c07c3622"
      },
      "execution_count": 5,
      "outputs": [
        {
          "output_type": "stream",
          "name": "stdout",
          "text": [
            "enter a number 8\n",
            "given number is positive\n"
          ]
        }
      ]
    },
    {
      "cell_type": "code",
      "source": [
        "#12.. Write a for loop to print numbers from 1 to 10\n",
        "for i in range(1,11):\n",
        "  print(i)"
      ],
      "metadata": {
        "colab": {
          "base_uri": "https://localhost:8080/"
        },
        "id": "77U1_LPAt0r3",
        "outputId": "a7c71213-8ac2-424d-b30a-91670c2d8c86"
      },
      "execution_count": 6,
      "outputs": [
        {
          "output_type": "stream",
          "name": "stdout",
          "text": [
            "1\n",
            "2\n",
            "3\n",
            "4\n",
            "5\n",
            "6\n",
            "7\n",
            "8\n",
            "9\n",
            "10\n"
          ]
        }
      ]
    },
    {
      "cell_type": "code",
      "source": [
        "#13.Write a Python program to find the sum of all even numbers between 1 and 50\n",
        "total=0\n",
        "for i in range(1,51):\n",
        "  if i%2==0:\n",
        "    total+=i\n",
        "    print(\"sum of even numbers=\",total)"
      ],
      "metadata": {
        "colab": {
          "base_uri": "https://localhost:8080/"
        },
        "id": "EB55SpTZugcn",
        "outputId": "66d3f230-8074-44fa-ab39-2e1a125cc03b"
      },
      "execution_count": 10,
      "outputs": [
        {
          "output_type": "stream",
          "name": "stdout",
          "text": [
            "sum of even numbers= 2\n",
            "sum of even numbers= 6\n",
            "sum of even numbers= 12\n",
            "sum of even numbers= 20\n",
            "sum of even numbers= 30\n",
            "sum of even numbers= 42\n",
            "sum of even numbers= 56\n",
            "sum of even numbers= 72\n",
            "sum of even numbers= 90\n",
            "sum of even numbers= 110\n",
            "sum of even numbers= 132\n",
            "sum of even numbers= 156\n",
            "sum of even numbers= 182\n",
            "sum of even numbers= 210\n",
            "sum of even numbers= 240\n",
            "sum of even numbers= 272\n",
            "sum of even numbers= 306\n",
            "sum of even numbers= 342\n",
            "sum of even numbers= 380\n",
            "sum of even numbers= 420\n",
            "sum of even numbers= 462\n",
            "sum of even numbers= 506\n",
            "sum of even numbers= 552\n",
            "sum of even numbers= 600\n",
            "sum of even numbers= 650\n"
          ]
        }
      ]
    },
    {
      "cell_type": "code",
      "source": [
        "#14. Write a program to reverse a string using a while loop.\n",
        "original_string=input(\"enter a string\")\n",
        "reversed_string=\"\"\n",
        "index=len(original_string)-1\n",
        "while index>=0:\n",
        "  reversed_string +=original_string[index]\n",
        "  index-=1\n",
        "  print(\"reversed_string:\",reversed_string)"
      ],
      "metadata": {
        "colab": {
          "base_uri": "https://localhost:8080/"
        },
        "id": "EfgDKqwJwDNi",
        "outputId": "8f22af6c-8de0-4698-8431-aecfc73e9f18"
      },
      "execution_count": 2,
      "outputs": [
        {
          "output_type": "stream",
          "name": "stdout",
          "text": [
            "enter a stringword\n",
            "reversed_string: d\n",
            "reversed_string: dr\n",
            "reversed_string: dro\n",
            "reversed_string: drow\n"
          ]
        }
      ]
    },
    {
      "cell_type": "code",
      "source": [
        " #15.Write a Python program to calculate the factorial of a number provided by the user using a while loop.\n",
        " num=int(input(\"enter a number:\"))\n",
        " factorial=1\n",
        " i=1\n",
        " while i<=num:\n",
        "  factorial*=i\n",
        "  i+=1\n",
        "  print(\"factorial of number is \",factorial)"
      ],
      "metadata": {
        "id": "QNgwTZW0159v",
        "outputId": "7cbeeccd-7e49-4b00-9fe5-2da6fc962c25",
        "colab": {
          "base_uri": "https://localhost:8080/"
        }
      },
      "execution_count": 3,
      "outputs": [
        {
          "output_type": "stream",
          "name": "stdout",
          "text": [
            "enter a number:5\n",
            "factorial of number is  1\n",
            "factorial of number is  2\n",
            "factorial of number is  6\n",
            "factorial of number is  24\n",
            "factorial of number is  120\n"
          ]
        }
      ]
    }
  ]
}